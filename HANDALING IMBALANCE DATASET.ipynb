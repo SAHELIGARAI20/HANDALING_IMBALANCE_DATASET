{
 "cells": [
  {
   "cell_type": "code",
   "execution_count": 1,
   "id": "3b280c62-ed2e-4f4c-8308-719ca3d7c6d1",
   "metadata": {},
   "outputs": [],
   "source": [
    "import numpy as np\n",
    "import pandas as pd\n",
    "import seaborn as sns"
   ]
  },
  {
   "cell_type": "code",
   "execution_count": 2,
   "id": "d55c1c61-1f0a-4d84-b116-9735d00662f7",
   "metadata": {},
   "outputs": [],
   "source": [
    "titanic=sns.load_dataset('titanic')"
   ]
  },
  {
   "cell_type": "code",
   "execution_count": 3,
   "id": "51e52855-20f4-4cab-8e00-35b17d1f9848",
   "metadata": {},
   "outputs": [
    {
     "data": {
      "text/plain": [
       "<seaborn.axisgrid.FacetGrid at 0x2f7d6bbb650>"
      ]
     },
     "execution_count": 3,
     "metadata": {},
     "output_type": "execute_result"
    },
    {
     "data": {
      "image/png": "[encoded data removed]",
      "text/plain": [
       "<Figure size 500x500 with 1 Axes>"
      ]
     },
     "metadata": {},
     "output_type": "display_data"
    }
   ],
   "source": [
    "sns.displot(titanic['age'])"
   ]
  },
  {
   "cell_type": "code",
   "execution_count": 4,
   "id": "343bf6d3-0151-4133-8334-8287608e8244",
   "metadata": {},
   "outputs": [],
   "source": [
    "n_sample=1000\n",
    "n_ratio=0.9\n",
    "n_class0=int(n_sample*n_ratio)\n",
    "n_class1=n_sample-n_class0"
   ]
  },
  {
   "cell_type": "code",
   "execution_count": 5,
   "id": "d8d5bc67-48a5-49ba-9f1d-bafd2b8ec053",
   "metadata": {},
   "outputs": [
    {
     "data": {
      "text/plain": [
       "(900, 100)"
      ]
     },
     "execution_count": 5,
     "metadata": {},
     "output_type": "execute_result"
    }
   ],
   "source": [
    "n_class0,n_class1"
   ]
  },
  {
   "cell_type": "code",
   "execution_count": 6,
   "id": "cee78f59-3d92-49a4-b0ef-76c5aa453dae",
   "metadata": {},
   "outputs": [],
   "source": [
    "\n",
    "class_0 = pd.DataFrame({\n",
    "    'feature_1': np.random.normal(loc=0, scale=1, size=n_class0),\n",
    "    'feature_2': np.random.normal(loc=0, scale=1, size=n_class0),\n",
    "    'target':[0]*n_class0\n",
    "})\n",
    "\n",
    "# Generate synthetic data for class 1\n",
    "class_1 = pd.DataFrame({\n",
    "    'feature_1': np.random.normal(loc=2, scale=1, size=n_class1),\n",
    "    'feature_2': np.random.normal(loc=2, scale=1, size=n_class1),\n",
    "    'target':[1]*n_class1\n",
    "})\n"
   ]
  },
  {
   "cell_type": "code",
   "execution_count": 7,
   "id": "7f4fcf9a-7d46-4a77-b785-661b7fe750df",
   "metadata": {},
   "outputs": [
    {
     "data": {
      "text/plain": [
       "(     feature_1  feature_2  target\n",
       " 0    -0.628355   1.332593       0\n",
       " 1    -0.862543   0.896096       0\n",
       " 2    -0.023774   0.488657       0\n",
       " 3     0.918144   1.160017       0\n",
       " 4    -0.485706  -0.911983       0\n",
       " ..         ...        ...     ...\n",
       " 895   0.811722   0.975463       0\n",
       " 896   1.356045   0.110552       0\n",
       " 897  -1.015318  -0.070092       0\n",
       " 898  -2.605594   1.011007       0\n",
       " 899  -0.917375  -0.260360       0\n",
       " \n",
       " [900 rows x 3 columns],\n",
       "     feature_1  feature_2  target\n",
       " 0    0.674199   4.219994       1\n",
       " 1    0.138823   0.936249       1\n",
       " 2    2.027135   2.410553       1\n",
       " 3    2.093057   0.460345       1\n",
       " 4    1.117665   2.342779       1\n",
       " ..        ...        ...     ...\n",
       " 95   3.381698   1.782939       1\n",
       " 96   0.746427   1.275381       1\n",
       " 97   3.370451   2.239943       1\n",
       " 98   0.881332   0.930753       1\n",
       " 99   1.042997   3.285740       1\n",
       " \n",
       " [100 rows x 3 columns])"
      ]
     },
     "execution_count": 7,
     "metadata": {},
     "output_type": "execute_result"
    }
   ],
   "source": [
    "class_0,class_1"
   ]
  },
  {
   "cell_type": "code",
   "execution_count": 8,
   "id": "9468c76c-f093-4f5d-8cca-d8c74ece6056",
   "metadata": {},
   "outputs": [
    {
     "data": {
      "text/plain": [
       "target\n",
       "0    900\n",
       "Name: count, dtype: int64"
      ]
     },
     "execution_count": 8,
     "metadata": {},
     "output_type": "execute_result"
    }
   ],
   "source": [
    "class_0['target'].value_counts()"
   ]
  },
  {
   "cell_type": "code",
   "execution_count": 9,
   "id": "ba5ca2b3-e8f1-4ac4-a0cd-41587c10b312",
   "metadata": {},
   "outputs": [
    {
     "data": {
      "text/plain": [
       "target\n",
       "1    100\n",
       "Name: count, dtype: int64"
      ]
     },
     "execution_count": 9,
     "metadata": {},
     "output_type": "execute_result"
    }
   ],
   "source": [
    "class_1['target'].value_counts()"
   ]
  },
  {
   "cell_type": "code",
   "execution_count": 10,
   "id": "67ec055d-54f5-40a9-a367-be3976900102",
   "metadata": {},
   "outputs": [],
   "source": [
    "df=pd.concat([class_0,class_1]).reset_index(drop=True)"
   ]
  },
  {
   "cell_type": "code",
   "execution_count": 11,
   "id": "5993a25d-496d-4eec-953f-83d97232405d",
   "metadata": {},
   "outputs": [
    {
     "data": {
      "text/html": [
       "<div>\n",
       "<style scoped>\n",
       "    .dataframe tbody tr th:only-of-type {\n",
       "        vertical-align: middle;\n",
       "    }\n",
       "\n",
       "    .dataframe tbody tr th {\n",
       "        vertical-align: top;\n",
       "    }\n",
       "\n",
       "    .dataframe thead th {\n",
       "        text-align: right;\n",
       "    }\n",
       "</style>\n",
       "<table border=\"1\" class=\"dataframe\">\n",
       "  <thead>\n",
       "    <tr style=\"text-align: right;\">\n",
       "      <th></th>\n",
       "      <th>feature_1</th>\n",
       "      <th>feature_2</th>\n",
       "      <th>target</th>\n",
       "    </tr>\n",
       "  </thead>\n",
       "  <tbody>\n",
       "    <tr>\n",
       "      <th>0</th>\n",
       "      <td>-0.628355</td>\n",
       "      <td>1.332593</td>\n",
       "      <td>0</td>\n",
       "    </tr>\n",
       "    <tr>\n",
       "      <th>1</th>\n",
       "      <td>-0.862543</td>\n",
       "      <td>0.896096</td>\n",
       "      <td>0</td>\n",
       "    </tr>\n",
       "    <tr>\n",
       "      <th>2</th>\n",
       "      <td>-0.023774</td>\n",
       "      <td>0.488657</td>\n",
       "      <td>0</td>\n",
       "    </tr>\n",
       "    <tr>\n",
       "      <th>3</th>\n",
       "      <td>0.918144</td>\n",
       "      <td>1.160017</td>\n",
       "      <td>0</td>\n",
       "    </tr>\n",
       "    <tr>\n",
       "      <th>4</th>\n",
       "      <td>-0.485706</td>\n",
       "      <td>-0.911983</td>\n",
       "      <td>0</td>\n",
       "    </tr>\n",
       "  </tbody>\n",
       "</table>\n",
       "</div>"
      ],
      "text/plain": [
       "   feature_1  feature_2  target\n",
       "0  -0.628355   1.332593       0\n",
       "1  -0.862543   0.896096       0\n",
       "2  -0.023774   0.488657       0\n",
       "3   0.918144   1.160017       0\n",
       "4  -0.485706  -0.911983       0"
      ]
     },
     "execution_count": 11,
     "metadata": {},
     "output_type": "execute_result"
    }
   ],
   "source": [
    "df.head()"
   ]
  },
  {
   "cell_type": "code",
   "execution_count": 12,
   "id": "ff10d4ec-e939-4ec0-98b0-501826b6c2c5",
   "metadata": {},
   "outputs": [
    {
     "data": {
      "text/plain": [
       "(1000, 3)"
      ]
     },
     "execution_count": 12,
     "metadata": {},
     "output_type": "execute_result"
    }
   ],
   "source": [
    "df.shape"
   ]
  },
  {
   "cell_type": "markdown",
   "id": "5dc1f00b-894e-48f9-a8c6-9bd009ceee62",
   "metadata": {},
   "source": [
    "upsampling"
   ]
  },
  {
   "cell_type": "code",
   "execution_count": 14,
   "id": "7f5e5bd7-29bd-4a6b-9887-ae20a5f7f1e8",
   "metadata": {},
   "outputs": [],
   "source": [
    " df_minority=df[df['target']==1]\n",
    " df_majority=df[df['target']==0]"
   ]
  },
  {
   "cell_type": "code",
   "execution_count": 15,
   "id": "b3ff21dc-8816-4c58-84ae-138afaa5930e",
   "metadata": {},
   "outputs": [
    {
     "data": {
      "text/html": [
       "<div>\n",
       "<style scoped>\n",
       "    .dataframe tbody tr th:only-of-type {\n",
       "        vertical-align: middle;\n",
       "    }\n",
       "\n",
       "    .dataframe tbody tr th {\n",
       "        vertical-align: top;\n",
       "    }\n",
       "\n",
       "    .dataframe thead th {\n",
       "        text-align: right;\n",
       "    }\n",
       "</style>\n",
       "<table border=\"1\" class=\"dataframe\">\n",
       "  <thead>\n",
       "    <tr style=\"text-align: right;\">\n",
       "      <th></th>\n",
       "      <th>feature_1</th>\n",
       "      <th>feature_2</th>\n",
       "      <th>target</th>\n",
       "    </tr>\n",
       "  </thead>\n",
       "  <tbody>\n",
       "    <tr>\n",
       "      <th>900</th>\n",
       "      <td>0.674199</td>\n",
       "      <td>4.219994</td>\n",
       "      <td>1</td>\n",
       "    </tr>\n",
       "    <tr>\n",
       "      <th>901</th>\n",
       "      <td>0.138823</td>\n",
       "      <td>0.936249</td>\n",
       "      <td>1</td>\n",
       "    </tr>\n",
       "    <tr>\n",
       "      <th>902</th>\n",
       "      <td>2.027135</td>\n",
       "      <td>2.410553</td>\n",
       "      <td>1</td>\n",
       "    </tr>\n",
       "    <tr>\n",
       "      <th>903</th>\n",
       "      <td>2.093057</td>\n",
       "      <td>0.460345</td>\n",
       "      <td>1</td>\n",
       "    </tr>\n",
       "    <tr>\n",
       "      <th>904</th>\n",
       "      <td>1.117665</td>\n",
       "      <td>2.342779</td>\n",
       "      <td>1</td>\n",
       "    </tr>\n",
       "  </tbody>\n",
       "</table>\n",
       "</div>"
      ],
      "text/plain": [
       "     feature_1  feature_2  target\n",
       "900   0.674199   4.219994       1\n",
       "901   0.138823   0.936249       1\n",
       "902   2.027135   2.410553       1\n",
       "903   2.093057   0.460345       1\n",
       "904   1.117665   2.342779       1"
      ]
     },
     "execution_count": 15,
     "metadata": {},
     "output_type": "execute_result"
    }
   ],
   "source": [
    "df_minority.head()"
   ]
  },
  {
   "cell_type": "code",
   "execution_count": 16,
   "id": "bb2fc13e-43cb-4135-a6c1-6dcd41150dfc",
   "metadata": {},
   "outputs": [],
   "source": [
    "from sklearn.utils import resample"
   ]
  },
  {
   "cell_type": "code",
   "execution_count": 17,
   "id": "3917c548-df17-4397-94c4-62331013fe52",
   "metadata": {},
   "outputs": [],
   "source": [
    "df_minority_upsample=resample( df_minority,\n",
    "replace=True,\n",
    "n_samples=len( df_majority),\n",
    "random_state=42)"
   ]
  },
  {
   "cell_type": "code",
   "execution_count": 18,
   "id": "733ef1ba-e985-49ad-8dcb-8720a9ccae06",
   "metadata": {},
   "outputs": [
    {
     "data": {
      "text/html": [
       "<div>\n",
       "<style scoped>\n",
       "    .dataframe tbody tr th:only-of-type {\n",
       "        vertical-align: middle;\n",
       "    }\n",
       "\n",
       "    .dataframe tbody tr th {\n",
       "        vertical-align: top;\n",
       "    }\n",
       "\n",
       "    .dataframe thead th {\n",
       "        text-align: right;\n",
       "    }\n",
       "</style>\n",
       "<table border=\"1\" class=\"dataframe\">\n",
       "  <thead>\n",
       "    <tr style=\"text-align: right;\">\n",
       "      <th></th>\n",
       "      <th>feature_1</th>\n",
       "      <th>feature_2</th>\n",
       "      <th>target</th>\n",
       "    </tr>\n",
       "  </thead>\n",
       "  <tbody>\n",
       "    <tr>\n",
       "      <th>951</th>\n",
       "      <td>2.010327</td>\n",
       "      <td>1.674447</td>\n",
       "      <td>1</td>\n",
       "    </tr>\n",
       "    <tr>\n",
       "      <th>992</th>\n",
       "      <td>1.837469</td>\n",
       "      <td>2.524894</td>\n",
       "      <td>1</td>\n",
       "    </tr>\n",
       "    <tr>\n",
       "      <th>914</th>\n",
       "      <td>0.700611</td>\n",
       "      <td>1.255863</td>\n",
       "      <td>1</td>\n",
       "    </tr>\n",
       "    <tr>\n",
       "      <th>971</th>\n",
       "      <td>1.251749</td>\n",
       "      <td>0.771352</td>\n",
       "      <td>1</td>\n",
       "    </tr>\n",
       "    <tr>\n",
       "      <th>960</th>\n",
       "      <td>2.076864</td>\n",
       "      <td>1.501228</td>\n",
       "      <td>1</td>\n",
       "    </tr>\n",
       "  </tbody>\n",
       "</table>\n",
       "</div>"
      ],
      "text/plain": [
       "     feature_1  feature_2  target\n",
       "951   2.010327   1.674447       1\n",
       "992   1.837469   2.524894       1\n",
       "914   0.700611   1.255863       1\n",
       "971   1.251749   0.771352       1\n",
       "960   2.076864   1.501228       1"
      ]
     },
     "execution_count": 18,
     "metadata": {},
     "output_type": "execute_result"
    }
   ],
   "source": [
    "df_minority_upsample.head()"
   ]
  },
  {
   "cell_type": "code",
   "execution_count": 19,
   "id": "85cb7f81-c227-4df0-87e7-6a6edaf7d121",
   "metadata": {},
   "outputs": [
    {
     "data": {
      "text/plain": [
       "(900, 3)"
      ]
     },
     "execution_count": 19,
     "metadata": {},
     "output_type": "execute_result"
    }
   ],
   "source": [
    "df_minority_upsample.shape"
   ]
  },
  {
   "cell_type": "code",
   "execution_count": 20,
   "id": "f428401a-c16f-41b9-8f90-dcd98b6e08b5",
   "metadata": {},
   "outputs": [],
   "source": [
    "df_balanced=pd.concat([df_minority_upsample,df_majority])"
   ]
  },
  {
   "cell_type": "code",
   "execution_count": 21,
   "id": "10e7dcb9-da34-4ffd-95d1-7975d5b882ec",
   "metadata": {},
   "outputs": [
    {
     "data": {
      "text/html": [
       "<div>\n",
       "<style scoped>\n",
       "    .dataframe tbody tr th:only-of-type {\n",
       "        vertical-align: middle;\n",
       "    }\n",
       "\n",
       "    .dataframe tbody tr th {\n",
       "        vertical-align: top;\n",
       "    }\n",
       "\n",
       "    .dataframe thead th {\n",
       "        text-align: right;\n",
       "    }\n",
       "</style>\n",
       "<table border=\"1\" class=\"dataframe\">\n",
       "  <thead>\n",
       "    <tr style=\"text-align: right;\">\n",
       "      <th></th>\n",
       "      <th>feature_1</th>\n",
       "      <th>feature_2</th>\n",
       "      <th>target</th>\n",
       "    </tr>\n",
       "  </thead>\n",
       "  <tbody>\n",
       "    <tr>\n",
       "      <th>951</th>\n",
       "      <td>2.010327</td>\n",
       "      <td>1.674447</td>\n",
       "      <td>1</td>\n",
       "    </tr>\n",
       "    <tr>\n",
       "      <th>992</th>\n",
       "      <td>1.837469</td>\n",
       "      <td>2.524894</td>\n",
       "      <td>1</td>\n",
       "    </tr>\n",
       "    <tr>\n",
       "      <th>914</th>\n",
       "      <td>0.700611</td>\n",
       "      <td>1.255863</td>\n",
       "      <td>1</td>\n",
       "    </tr>\n",
       "    <tr>\n",
       "      <th>971</th>\n",
       "      <td>1.251749</td>\n",
       "      <td>0.771352</td>\n",
       "      <td>1</td>\n",
       "    </tr>\n",
       "    <tr>\n",
       "      <th>960</th>\n",
       "      <td>2.076864</td>\n",
       "      <td>1.501228</td>\n",
       "      <td>1</td>\n",
       "    </tr>\n",
       "  </tbody>\n",
       "</table>\n",
       "</div>"
      ],
      "text/plain": [
       "     feature_1  feature_2  target\n",
       "951   2.010327   1.674447       1\n",
       "992   1.837469   2.524894       1\n",
       "914   0.700611   1.255863       1\n",
       "971   1.251749   0.771352       1\n",
       "960   2.076864   1.501228       1"
      ]
     },
     "execution_count": 21,
     "metadata": {},
     "output_type": "execute_result"
    }
   ],
   "source": [
    "df_balanced.head()"
   ]
  },
  {
   "cell_type": "code",
   "execution_count": 22,
   "id": "6b9271a4-ac24-4e81-99ab-71981e36b284",
   "metadata": {},
   "outputs": [
    {
     "data": {
      "text/html": [
       "<div>\n",
       "<style scoped>\n",
       "    .dataframe tbody tr th:only-of-type {\n",
       "        vertical-align: middle;\n",
       "    }\n",
       "\n",
       "    .dataframe tbody tr th {\n",
       "        vertical-align: top;\n",
       "    }\n",
       "\n",
       "    .dataframe thead th {\n",
       "        text-align: right;\n",
       "    }\n",
       "</style>\n",
       "<table border=\"1\" class=\"dataframe\">\n",
       "  <thead>\n",
       "    <tr style=\"text-align: right;\">\n",
       "      <th></th>\n",
       "      <th>feature_1</th>\n",
       "      <th>feature_2</th>\n",
       "      <th>target</th>\n",
       "    </tr>\n",
       "  </thead>\n",
       "  <tbody>\n",
       "    <tr>\n",
       "      <th>951</th>\n",
       "      <td>2.010327</td>\n",
       "      <td>1.674447</td>\n",
       "      <td>1</td>\n",
       "    </tr>\n",
       "    <tr>\n",
       "      <th>992</th>\n",
       "      <td>1.837469</td>\n",
       "      <td>2.524894</td>\n",
       "      <td>1</td>\n",
       "    </tr>\n",
       "    <tr>\n",
       "      <th>914</th>\n",
       "      <td>0.700611</td>\n",
       "      <td>1.255863</td>\n",
       "      <td>1</td>\n",
       "    </tr>\n",
       "    <tr>\n",
       "      <th>971</th>\n",
       "      <td>1.251749</td>\n",
       "      <td>0.771352</td>\n",
       "      <td>1</td>\n",
       "    </tr>\n",
       "    <tr>\n",
       "      <th>960</th>\n",
       "      <td>2.076864</td>\n",
       "      <td>1.501228</td>\n",
       "      <td>1</td>\n",
       "    </tr>\n",
       "  </tbody>\n",
       "</table>\n",
       "</div>"
      ],
      "text/plain": [
       "     feature_1  feature_2  target\n",
       "951   2.010327   1.674447       1\n",
       "992   1.837469   2.524894       1\n",
       "914   0.700611   1.255863       1\n",
       "971   1.251749   0.771352       1\n",
       "960   2.076864   1.501228       1"
      ]
     },
     "execution_count": 22,
     "metadata": {},
     "output_type": "execute_result"
    }
   ],
   "source": [
    "df_balanced.head()\n"
   ]
  },
  {
   "cell_type": "markdown",
   "id": "c84c35b0-2f37-427b-a088-ccbbb211951a",
   "metadata": {},
   "source": [
    "downsampling"
   ]
  },
  {
   "cell_type": "code",
   "execution_count": 45,
   "id": "16e64824-bb21-4037-b494-fe99c2c0c743",
   "metadata": {},
   "outputs": [],
   "source": [
    "class_0 = pd.DataFrame({\n",
    "    'feature_1': np.random.normal(loc=0, scale=1, size=n_class0),\n",
    "    'feature_2': np.random.normal(loc=0, scale=1, size=n_class0),\n",
    "    'target':[0]*n_class0\n",
    "})\n",
    "\n",
    "# Generate synthetic data for class 1\n",
    "class_1 = pd.DataFrame({\n",
    "    'feature_1': np.random.normal(loc=2, scale=1, size=n_class1),\n",
    "    'feature_2': np.random.normal(loc=2, scale=1, size=n_class1),\n",
    "    'target':[1]*n_class1\n",
    "})\n"
   ]
  },
  {
   "cell_type": "code",
   "execution_count": 47,
   "id": "14b9d199-60e4-485e-a45d-73071d7555a0",
   "metadata": {},
   "outputs": [],
   "source": [
    " df_minority=df[df['target']==1]\n",
    " df_majority=df[df['target']==0]"
   ]
  },
  {
   "cell_type": "code",
   "execution_count": 50,
   "id": "1b14437b-96ce-490b-8cd1-46fe7fa56b8e",
   "metadata": {},
   "outputs": [],
   "source": [
    "df_majority_downsample=resample( df_majority,\n",
    "replace=False,\n",
    "n_samples=len( df_minority),\n",
    "random_state=42)"
   ]
  },
  {
   "cell_type": "code",
   "execution_count": 58,
   "id": "14136d25-3e89-44d5-b2a4-0d37edf820f6",
   "metadata": {},
   "outputs": [],
   "source": [
    "balanced_dataset=pd.concat([df_majority_downsample, df_minority])"
   ]
  },
  {
   "cell_type": "code",
   "execution_count": 63,
   "id": "8398f5ff-e41f-44c4-8dc6-574d9fc7a885",
   "metadata": {},
   "outputs": [
    {
     "data": {
      "text/plain": [
       "(200, 3)"
      ]
     },
     "execution_count": 63,
     "metadata": {},
     "output_type": "execute_result"
    }
   ],
   "source": [
    "balanced_dataset.shape"
   ]
  },
  {
   "cell_type": "code",
   "execution_count": 66,
   "id": "73e519e8-5482-4629-8cfc-17a9d72beb2d",
   "metadata": {},
   "outputs": [
    {
     "data": {
      "text/html": [
       "<div>\n",
       "<style scoped>\n",
       "    .dataframe tbody tr th:only-of-type {\n",
       "        vertical-align: middle;\n",
       "    }\n",
       "\n",
       "    .dataframe tbody tr th {\n",
       "        vertical-align: top;\n",
       "    }\n",
       "\n",
       "    .dataframe thead th {\n",
       "        text-align: right;\n",
       "    }\n",
       "</style>\n",
       "<table border=\"1\" class=\"dataframe\">\n",
       "  <thead>\n",
       "    <tr style=\"text-align: right;\">\n",
       "      <th></th>\n",
       "      <th>feature_1</th>\n",
       "      <th>feature_2</th>\n",
       "      <th>target</th>\n",
       "    </tr>\n",
       "  </thead>\n",
       "  <tbody>\n",
       "    <tr>\n",
       "      <th>70</th>\n",
       "      <td>-1.162187</td>\n",
       "      <td>1.061347</td>\n",
       "      <td>0</td>\n",
       "    </tr>\n",
       "    <tr>\n",
       "      <th>827</th>\n",
       "      <td>1.134792</td>\n",
       "      <td>0.054962</td>\n",
       "      <td>0</td>\n",
       "    </tr>\n",
       "    <tr>\n",
       "      <th>231</th>\n",
       "      <td>0.616890</td>\n",
       "      <td>-0.297194</td>\n",
       "      <td>0</td>\n",
       "    </tr>\n",
       "    <tr>\n",
       "      <th>588</th>\n",
       "      <td>0.254422</td>\n",
       "      <td>1.504230</td>\n",
       "      <td>0</td>\n",
       "    </tr>\n",
       "    <tr>\n",
       "      <th>39</th>\n",
       "      <td>1.006231</td>\n",
       "      <td>-1.473226</td>\n",
       "      <td>0</td>\n",
       "    </tr>\n",
       "  </tbody>\n",
       "</table>\n",
       "</div>"
      ],
      "text/plain": [
       "     feature_1  feature_2  target\n",
       "70   -1.162187   1.061347       0\n",
       "827   1.134792   0.054962       0\n",
       "231   0.616890  -0.297194       0\n",
       "588   0.254422   1.504230       0\n",
       "39    1.006231  -1.473226       0"
      ]
     },
     "execution_count": 66,
     "metadata": {},
     "output_type": "execute_result"
    }
   ],
   "source": [
    "balanced_dataset.head()"
   ]
  },
  {
   "cell_type": "code",
   "execution_count": 68,
   "id": "9be19909-775f-42ad-b2dd-ae4deb536d04",
   "metadata": {},
   "outputs": [
    {
     "data": {
      "text/plain": [
       "feature_1  feature_2  target\n",
       "-2.781525  -0.212315  0         1\n",
       " 1.428630   1.656281  1         1\n",
       " 1.187532   2.186708  1         1\n",
       " 1.206669   2.705398  1         1\n",
       " 1.225144   3.110779  1         1\n",
       "                               ..\n",
       " 0.010278  -0.004856  0         1\n",
       " 0.030443   1.508687  0         1\n",
       " 0.046234  -0.264166  0         1\n",
       " 0.047330  -1.802720  0         1\n",
       " 4.446618   2.709926  1         1\n",
       "Name: count, Length: 200, dtype: int64"
      ]
     },
     "execution_count": 68,
     "metadata": {},
     "output_type": "execute_result"
    }
   ],
   "source": [
    "balanced_dataset.value_counts()"
   ]
  },
  {
   "cell_type": "code",
   "execution_count": 74,
   "id": "ccefebd8-fc5f-4835-994c-5c12afbffc33",
   "metadata": {},
   "outputs": [
    {
     "data": {
      "text/plain": [
       "feature_1\n",
       "-1.162187    1\n",
       " 1.867964    1\n",
       " 2.331822    1\n",
       " 4.347622    1\n",
       " 0.888610    1\n",
       "            ..\n",
       " 1.083148    1\n",
       "-1.216849    1\n",
       " 0.030443    1\n",
       "-0.987106    1\n",
       " 1.042997    1\n",
       "Name: count, Length: 200, dtype: int64"
      ]
     },
     "execution_count": 74,
     "metadata": {},
     "output_type": "execute_result"
    }
   ],
   "source": [
    "balanced_dataset['feature_1'].value_counts()"
   ]
  },
  {
   "cell_type": "code",
   "execution_count": 76,
   "id": "0ca56711-27f6-4a27-add6-339de45d3130",
   "metadata": {},
   "outputs": [
    {
     "data": {
      "text/plain": [
       "(200,)"
      ]
     },
     "execution_count": 76,
     "metadata": {},
     "output_type": "execute_result"
    }
   ],
   "source": [
    "balanced_dataset['feature_1'].shape"
   ]
  },
  {
   "cell_type": "markdown",
   "id": "dff3878c-d818-40d2-8f98-40b235407735",
   "metadata": {},
   "source": [
    "smote"
   ]
  },
  {
   "cell_type": "code",
   "execution_count": 78,
   "id": "a839ba05-3d18-41f7-b67c-de0d365a98e1",
   "metadata": {},
   "outputs": [],
   "source": [
    "from sklearn.datasets  import make_classification"
   ]
  },
  {
   "cell_type": "code",
   "execution_count": 158,
   "id": "c123bf24-8b41-4216-9bea-3e5170d42f21",
   "metadata": {},
   "outputs": [],
   "source": [
    "#x is  the independent and y is dependent\n",
    "x,y=make_classification(n_samples=1000,n_features=2,n_clusters_per_class=2, weights=[0,0.95],n_redundant=0)"
   ]
  },
  {
   "cell_type": "code",
   "execution_count": 160,
   "id": "45d15650-2d3d-46a3-87a2-56cf2f6ee4dd",
   "metadata": {},
   "outputs": [
    {
     "data": {
      "text/plain": [
       "array([[ 0.17629743, -0.53873578],\n",
       "       [-0.22565698, -0.22688467],\n",
       "       [ 1.18477316, -1.13238804],\n",
       "       ...,\n",
       "       [ 2.28248419,  2.14528815],\n",
       "       [ 2.09842235, -1.67107372],\n",
       "       [ 0.44160211, -0.6747342 ]])"
      ]
     },
     "execution_count": 160,
     "metadata": {},
     "output_type": "execute_result"
    }
   ],
   "source": [
    "x"
   ]
  },
  {
   "cell_type": "code",
   "execution_count": 162,
   "id": "f3aa3248-8a35-458d-80fe-fab7573b9ba4",
   "metadata": {},
   "outputs": [
    {
     "data": {
      "text/plain": [
       "array([1, 1, 1, 1, 1, 1, 1, 1, 1, 1, 1, 1, 1, 1, 1, 1, 0, 1, 1, 1, 1, 1,\n",
       "       1, 1, 1, 1, 1, 1, 1, 1, 1, 1, 1, 1, 1, 1, 1, 1, 1, 1, 1, 1, 1, 1,\n",
       "       1, 1, 1, 1, 1, 1, 1, 1, 1, 1, 1, 1, 1, 1, 1, 1, 1, 1, 1, 1, 1, 1,\n",
       "       1, 1, 1, 1, 1, 1, 1, 1, 1, 1, 1, 1, 1, 1, 0, 1, 1, 1, 1, 1, 1, 0,\n",
       "       1, 1, 0, 1, 1, 0, 1, 1, 0, 1, 1, 1, 1, 1, 1, 1, 1, 1, 1, 1, 1, 1,\n",
       "       1, 1, 1, 1, 1, 1, 1, 1, 1, 1, 1, 1, 1, 1, 1, 1, 1, 1, 1, 1, 1, 1,\n",
       "       1, 1, 1, 1, 1, 1, 1, 1, 1, 1, 1, 1, 1, 1, 1, 1, 1, 1, 1, 1, 1, 1,\n",
       "       1, 1, 1, 1, 1, 1, 1, 1, 1, 1, 1, 1, 1, 1, 1, 1, 1, 1, 1, 1, 1, 1,\n",
       "       1, 1, 1, 1, 1, 1, 1, 1, 1, 1, 1, 1, 1, 1, 1, 1, 1, 1, 1, 1, 1, 1,\n",
       "       1, 1, 1, 1, 1, 1, 1, 1, 1, 1, 1, 1, 1, 1, 1, 1, 1, 1, 1, 1, 1, 1,\n",
       "       1, 1, 1, 1, 1, 1, 1, 1, 1, 1, 1, 1, 1, 1, 1, 1, 1, 1, 1, 1, 1, 1,\n",
       "       1, 1, 1, 1, 1, 1, 1, 1, 1, 1, 1, 0, 1, 1, 1, 1, 1, 1, 1, 1, 1, 1,\n",
       "       1, 1, 1, 1, 1, 1, 1, 1, 1, 1, 1, 1, 1, 1, 1, 1, 1, 1, 1, 1, 1, 1,\n",
       "       1, 1, 1, 1, 1, 1, 1, 1, 1, 1, 1, 1, 1, 1, 1, 0, 1, 1, 1, 1, 1, 1,\n",
       "       0, 1, 1, 1, 1, 1, 1, 1, 1, 1, 1, 1, 1, 1, 1, 1, 1, 1, 1, 1, 0, 1,\n",
       "       1, 1, 1, 1, 1, 1, 1, 1, 1, 1, 1, 1, 1, 1, 1, 1, 1, 1, 1, 1, 1, 1,\n",
       "       1, 1, 1, 1, 1, 1, 1, 1, 1, 1, 1, 1, 1, 1, 1, 1, 1, 1, 1, 1, 1, 1,\n",
       "       1, 1, 1, 1, 1, 1, 1, 1, 1, 1, 1, 1, 1, 1, 1, 1, 1, 1, 1, 1, 1, 1,\n",
       "       1, 1, 0, 1, 1, 0, 1, 1, 1, 1, 1, 1, 1, 1, 1, 1, 1, 1, 1, 1, 1, 1,\n",
       "       1, 1, 1, 1, 1, 1, 1, 1, 1, 1, 1, 1, 1, 1, 1, 1, 1, 1, 1, 1, 1, 1,\n",
       "       1, 1, 1, 1, 1, 1, 1, 1, 1, 1, 1, 1, 1, 1, 1, 1, 1, 0, 1, 1, 1, 1,\n",
       "       1, 1, 1, 1, 1, 1, 1, 1, 1, 1, 1, 1, 1, 1, 1, 1, 1, 0, 1, 1, 1, 1,\n",
       "       1, 1, 1, 1, 1, 1, 1, 1, 1, 1, 1, 1, 1, 1, 1, 1, 1, 1, 1, 1, 1, 1,\n",
       "       1, 1, 1, 1, 1, 1, 1, 1, 1, 1, 1, 1, 1, 1, 1, 1, 1, 1, 1, 1, 1, 1,\n",
       "       1, 1, 1, 1, 1, 1, 1, 1, 1, 1, 1, 1, 1, 1, 1, 1, 1, 1, 1, 1, 1, 1,\n",
       "       1, 1, 1, 1, 1, 1, 1, 1, 1, 1, 1, 1, 1, 1, 1, 1, 1, 1, 1, 1, 1, 1,\n",
       "       1, 1, 1, 1, 1, 1, 1, 1, 1, 1, 1, 1, 1, 1, 1, 1, 1, 1, 1, 1, 1, 1,\n",
       "       1, 1, 1, 1, 1, 1, 1, 1, 1, 1, 1, 1, 1, 1, 1, 1, 1, 1, 1, 1, 1, 1,\n",
       "       1, 0, 1, 1, 1, 1, 1, 1, 1, 1, 1, 1, 1, 1, 1, 1, 1, 1, 1, 1, 0, 1,\n",
       "       1, 1, 1, 1, 1, 1, 1, 1, 1, 1, 1, 1, 1, 1, 1, 1, 1, 1, 1, 1, 1, 1,\n",
       "       1, 1, 1, 1, 1, 1, 1, 1, 1, 1, 1, 1, 1, 1, 0, 1, 1, 1, 1, 1, 1, 1,\n",
       "       1, 1, 1, 1, 1, 1, 1, 1, 1, 1, 1, 1, 1, 1, 1, 1, 1, 1, 1, 1, 1, 1,\n",
       "       1, 1, 1, 1, 1, 1, 1, 1, 1, 1, 1, 1, 1, 1, 1, 1, 1, 1, 1, 1, 1, 1,\n",
       "       1, 0, 1, 1, 1, 1, 1, 1, 1, 1, 1, 1, 1, 1, 1, 1, 1, 1, 1, 1, 1, 1,\n",
       "       1, 1, 1, 1, 1, 1, 1, 1, 1, 1, 1, 1, 1, 1, 1, 1, 1, 1, 1, 1, 1, 1,\n",
       "       1, 1, 1, 1, 0, 1, 1, 1, 0, 1, 1, 1, 1, 1, 1, 1, 1, 1, 1, 1, 1, 1,\n",
       "       1, 1, 1, 1, 1, 1, 1, 1, 1, 1, 1, 1, 1, 1, 1, 1, 1, 1, 1, 1, 1, 1,\n",
       "       1, 1, 1, 1, 1, 1, 1, 1, 1, 1, 1, 1, 1, 1, 1, 1, 0, 1, 1, 1, 1, 1,\n",
       "       1, 1, 1, 1, 1, 1, 1, 1, 0, 1, 1, 1, 1, 1, 1, 1, 1, 1, 1, 1, 1, 1,\n",
       "       1, 1, 1, 1, 0, 1, 1, 0, 1, 1, 1, 1, 1, 1, 1, 1, 1, 1, 1, 1, 1, 1,\n",
       "       1, 1, 1, 1, 1, 1, 1, 1, 1, 1, 1, 1, 1, 1, 1, 1, 1, 1, 1, 1, 0, 1,\n",
       "       1, 1, 1, 1, 1, 1, 1, 1, 1, 1, 1, 1, 1, 1, 1, 1, 1, 1, 1, 1, 1, 1,\n",
       "       1, 1, 1, 1, 0, 1, 1, 1, 1, 1, 1, 1, 1, 1, 1, 1, 1, 1, 1, 1, 1, 1,\n",
       "       1, 1, 1, 1, 1, 1, 1, 1, 1, 1, 1, 1, 1, 1, 1, 1, 1, 1, 1, 1, 1, 1,\n",
       "       1, 1, 1, 1, 1, 0, 1, 1, 1, 1, 1, 1, 1, 1, 1, 1, 1, 1, 1, 1, 1, 1,\n",
       "       1, 1, 1, 1, 1, 1, 1, 1, 1, 1])"
      ]
     },
     "execution_count": 162,
     "metadata": {},
     "output_type": "execute_result"
    }
   ],
   "source": [
    "y"
   ]
  },
  {
   "cell_type": "code",
   "execution_count": 164,
   "id": "4841ee51-0cd1-4a78-8b9b-55d96f9a5c6f",
   "metadata": {},
   "outputs": [],
   "source": [
    "df1=pd.DataFrame(x,columns=[\"f1\",\"f2\"])"
   ]
  },
  {
   "cell_type": "code",
   "execution_count": 166,
   "id": "e13ed0de-898b-4555-8f0e-8e5e256ea229",
   "metadata": {},
   "outputs": [],
   "source": [
    "df2=pd.DataFrame(y,columns=[\"target\"])"
   ]
  },
  {
   "cell_type": "code",
   "execution_count": 178,
   "id": "da25d9ba-7bac-4c9c-8924-bb15b0214a0f",
   "metadata": {
    "scrolled": true
   },
   "outputs": [
    {
     "data": {
      "text/html": [
       "<div>\n",
       "<style scoped>\n",
       "    .dataframe tbody tr th:only-of-type {\n",
       "        vertical-align: middle;\n",
       "    }\n",
       "\n",
       "    .dataframe tbody tr th {\n",
       "        vertical-align: top;\n",
       "    }\n",
       "\n",
       "    .dataframe thead th {\n",
       "        text-align: right;\n",
       "    }\n",
       "</style>\n",
       "<table border=\"1\" class=\"dataframe\">\n",
       "  <thead>\n",
       "    <tr style=\"text-align: right;\">\n",
       "      <th></th>\n",
       "      <th>f1</th>\n",
       "      <th>f2</th>\n",
       "      <th>target</th>\n",
       "    </tr>\n",
       "  </thead>\n",
       "  <tbody>\n",
       "    <tr>\n",
       "      <th>0</th>\n",
       "      <td>0.176297</td>\n",
       "      <td>-0.538736</td>\n",
       "      <td>1</td>\n",
       "    </tr>\n",
       "    <tr>\n",
       "      <th>1</th>\n",
       "      <td>-0.225657</td>\n",
       "      <td>-0.226885</td>\n",
       "      <td>1</td>\n",
       "    </tr>\n",
       "    <tr>\n",
       "      <th>2</th>\n",
       "      <td>1.184773</td>\n",
       "      <td>-1.132388</td>\n",
       "      <td>1</td>\n",
       "    </tr>\n",
       "    <tr>\n",
       "      <th>3</th>\n",
       "      <td>1.046085</td>\n",
       "      <td>0.731651</td>\n",
       "      <td>1</td>\n",
       "    </tr>\n",
       "    <tr>\n",
       "      <th>4</th>\n",
       "      <td>1.889036</td>\n",
       "      <td>-1.569092</td>\n",
       "      <td>1</td>\n",
       "    </tr>\n",
       "    <tr>\n",
       "      <th>...</th>\n",
       "      <td>...</td>\n",
       "      <td>...</td>\n",
       "      <td>...</td>\n",
       "    </tr>\n",
       "    <tr>\n",
       "      <th>995</th>\n",
       "      <td>0.231546</td>\n",
       "      <td>-0.546893</td>\n",
       "      <td>1</td>\n",
       "    </tr>\n",
       "    <tr>\n",
       "      <th>996</th>\n",
       "      <td>1.836704</td>\n",
       "      <td>-1.502047</td>\n",
       "      <td>1</td>\n",
       "    </tr>\n",
       "    <tr>\n",
       "      <th>997</th>\n",
       "      <td>2.282484</td>\n",
       "      <td>2.145288</td>\n",
       "      <td>1</td>\n",
       "    </tr>\n",
       "    <tr>\n",
       "      <th>998</th>\n",
       "      <td>2.098422</td>\n",
       "      <td>-1.671074</td>\n",
       "      <td>1</td>\n",
       "    </tr>\n",
       "    <tr>\n",
       "      <th>999</th>\n",
       "      <td>0.441602</td>\n",
       "      <td>-0.674734</td>\n",
       "      <td>1</td>\n",
       "    </tr>\n",
       "  </tbody>\n",
       "</table>\n",
       "<p>1000 rows × 3 columns</p>\n",
       "</div>"
      ],
      "text/plain": [
       "           f1        f2  target\n",
       "0    0.176297 -0.538736       1\n",
       "1   -0.225657 -0.226885       1\n",
       "2    1.184773 -1.132388       1\n",
       "3    1.046085  0.731651       1\n",
       "4    1.889036 -1.569092       1\n",
       "..        ...       ...     ...\n",
       "995  0.231546 -0.546893       1\n",
       "996  1.836704 -1.502047       1\n",
       "997  2.282484  2.145288       1\n",
       "998  2.098422 -1.671074       1\n",
       "999  0.441602 -0.674734       1\n",
       "\n",
       "[1000 rows x 3 columns]"
      ]
     },
     "execution_count": 178,
     "metadata": {},
     "output_type": "execute_result"
    }
   ],
   "source": [
    "final_dataframe=pd.concat([df1,df2],axis=1)\n",
    "final_dataframe"
   ]
  },
  {
   "cell_type": "code",
   "execution_count": 180,
   "id": "2d9123d5-255e-4c15-babe-b8f72a154563",
   "metadata": {},
   "outputs": [
    {
     "data": {
      "text/plain": [
       "target\n",
       "1    973\n",
       "0     27\n",
       "Name: count, dtype: int64"
      ]
     },
     "execution_count": 180,
     "metadata": {},
     "output_type": "execute_result"
    }
   ],
   "source": [
    "final_dataframe['target'].value_counts()"
   ]
  },
  {
   "cell_type": "code",
   "execution_count": 182,
   "id": "72471cf4-aa88-4a74-bf66-621a19c46cbb",
   "metadata": {},
   "outputs": [
    {
     "data": {
      "text/plain": [
       "f1\n",
       " 0.176297    1\n",
       "-0.171731    1\n",
       " 0.946356    1\n",
       "-0.022897    1\n",
       " 2.556857    1\n",
       "            ..\n",
       " 0.835747    1\n",
       " 1.076151    1\n",
       " 2.749877    1\n",
       " 1.428315    1\n",
       " 0.441602    1\n",
       "Name: count, Length: 1000, dtype: int64"
      ]
     },
     "execution_count": 182,
     "metadata": {},
     "output_type": "execute_result"
    }
   ],
   "source": [
    "final_dataframe['f1'].value_counts()"
   ]
  },
  {
   "cell_type": "code",
   "execution_count": 188,
   "id": "412fa856-53a8-42c4-ae56-67d13ebdc7c4",
   "metadata": {},
   "outputs": [
    {
     "data": {
      "text/plain": [
       "f2\n",
       "-0.538736    1\n",
       "-0.349863    1\n",
       "-0.946607    1\n",
       "-0.362576    1\n",
       " 1.591633    1\n",
       "            ..\n",
       " 0.635138    1\n",
       " 1.102761    1\n",
       " 2.377142    1\n",
       "-1.276342    1\n",
       "-0.674734    1\n",
       "Name: count, Length: 1000, dtype: int64"
      ]
     },
     "execution_count": 188,
     "metadata": {},
     "output_type": "execute_result"
    }
   ],
   "source": [
    "final_dataframe['f2'].value_counts()"
   ]
  },
  {
   "cell_type": "code",
   "execution_count": 220,
   "id": "7ec9df2e-43b2-444a-9489-dce9b9eb1bc2",
   "metadata": {},
   "outputs": [
    {
     "data": {
      "image/png": "[encoded data removed]",
      "text/plain": [
       "<Figure size 800x600 with 2 Axes>"
      ]
     },
     "metadata": {},
     "output_type": "display_data"
    }
   ],
   "source": [
    "from sklearn.datasets import make_classification\n",
    "import pandas as pd\n",
    "import matplotlib.pyplot as plt\n",
    "\n",
    "x, y = make_classification(n_samples=1000, n_features=2, n_clusters_per_class=2, \n",
    "                           weights=[0.05, 0.95], n_redundant=0)\n",
    "\n",
    "df1 = pd.DataFrame(x, columns=[\"f1\", \"f2\"])\n",
    "df2 = pd.DataFrame(y, columns=[\"target\"])\n",
    "final_dataframe = pd.concat([df1, df2], axis=1)\n",
    "\n",
    "plt.figure(figsize=(8, 6))\n",
    "plt.scatter(final_dataframe['f1'], final_dataframe['f2'], c=final_dataframe['target'], \n",
    "            cmap='viridis', alpha=0.7)\n",
    "plt.title(\"2D Classification Dataset\")\n",
    "plt.xlabel(\"f1\")\n",
    "plt.ylabel(\"f2\")\n",
    "plt.colorbar(label=\"Target\")\n",
    "plt.grid(True)\n",
    "plt.show()\n"
   ]
  },
  {
   "cell_type": "code",
   "execution_count": 253,
   "id": "73ac8280-b659-46e3-803b-987c5dd7f564",
   "metadata": {},
   "outputs": [
    {
     "data": {
      "text/plain": [
       "target\n",
       "1    946\n",
       "0     54\n",
       "Name: count, dtype: int64"
      ]
     },
     "execution_count": 253,
     "metadata": {},
     "output_type": "execute_result"
    }
   ],
   "source": [
    "final_dataframe['target'].value_counts()"
   ]
  },
  {
   "cell_type": "markdown",
   "id": "09abde4e-a29e-4cf2-955f-7fda898580b1",
   "metadata": {},
   "source": [
    "SMOTE TECHNIQUE"
   ]
  },
  {
   "cell_type": "code",
   "execution_count": 222,
   "id": "c1575d3e-5427-4485-b723-a1af83df4fb4",
   "metadata": {},
   "outputs": [
    {
     "name": "stdout",
     "output_type": "stream",
     "text": [
      "Requirement already satisfied: imblearn in c:\\users\\sahel\\untitled folder 1\\anaconda\\lib\\site-packages (0.0)\n",
      "Requirement already satisfied: imbalanced-learn in c:\\users\\sahel\\untitled folder 1\\anaconda\\lib\\site-packages (from imblearn) (0.12.3)\n",
      "Requirement already satisfied: numpy>=1.17.3 in c:\\users\\sahel\\untitled folder 1\\anaconda\\lib\\site-packages (from imbalanced-learn->imblearn) (1.26.4)\n",
      "Requirement already satisfied: scipy>=1.5.0 in c:\\users\\sahel\\untitled folder 1\\anaconda\\lib\\site-packages (from imbalanced-learn->imblearn) (1.13.1)\n",
      "Requirement already satisfied: scikit-learn>=1.0.2 in c:\\users\\sahel\\untitled folder 1\\anaconda\\lib\\site-packages (from imbalanced-learn->imblearn) (1.5.1)\n",
      "Requirement already satisfied: joblib>=1.1.1 in c:\\users\\sahel\\untitled folder 1\\anaconda\\lib\\site-packages (from imbalanced-learn->imblearn) (1.4.2)\n",
      "Requirement already satisfied: threadpoolctl>=2.0.0 in c:\\users\\sahel\\untitled folder 1\\anaconda\\lib\\site-packages (from imbalanced-learn->imblearn) (3.5.0)\n"
     ]
    }
   ],
   "source": [
    "!pip install imblearn"
   ]
  },
  {
   "cell_type": "code",
   "execution_count": 223,
   "id": "998dfb38-135f-4d2e-a141-aa3467aa93e3",
   "metadata": {},
   "outputs": [],
   "source": [
    "from imblearn.over_sampling import SMOTE"
   ]
  },
  {
   "cell_type": "code",
   "execution_count": 224,
   "id": "52e13dfc-6b48-45ac-819d-fe4fbd222b2c",
   "metadata": {},
   "outputs": [],
   "source": [
    "oversample=SMOTE()"
   ]
  },
  {
   "cell_type": "code",
   "execution_count": 232,
   "id": "e55a0a49-2cd0-4e48-9559-6ec4f0020303",
   "metadata": {},
   "outputs": [],
   "source": [
    "x,y=oversample.fit_resample(final_dataframe[['f1','f2']], final_dataframe['target'],)"
   ]
  },
  {
   "cell_type": "code",
   "execution_count": 241,
   "id": "80bc80dc-7ec7-4485-9967-719fa4aebea9",
   "metadata": {},
   "outputs": [
    {
     "data": {
      "text/plain": [
       "(1892, 2)"
      ]
     },
     "execution_count": 241,
     "metadata": {},
     "output_type": "execute_result"
    }
   ],
   "source": [
    "pd.DataFrame(x).shape"
   ]
  },
  {
   "cell_type": "code",
   "execution_count": 245,
   "id": "01ee596d-3807-4694-b793-a273956a42f2",
   "metadata": {},
   "outputs": [
    {
     "data": {
      "text/plain": [
       "946"
      ]
     },
     "execution_count": 245,
     "metadata": {},
     "output_type": "execute_result"
    }
   ],
   "source": [
    "len(y[y==1])"
   ]
  },
  {
   "cell_type": "code",
   "execution_count": 247,
   "id": "ac2ec739-0488-4db2-b721-a7546c3e2971",
   "metadata": {},
   "outputs": [
    {
     "data": {
      "text/plain": [
       "946"
      ]
     },
     "execution_count": 247,
     "metadata": {},
     "output_type": "execute_result"
    }
   ],
   "source": [
    "len(y[y==0])"
   ]
  },
  {
   "cell_type": "code",
   "execution_count": 271,
   "id": "0e998ba6-c0ee-4a75-bf24-e5d210ad9c7f",
   "metadata": {},
   "outputs": [],
   "source": [
    "df1 = pd.DataFrame(x, columns=[\"f1\",\"f2\"])\n",
    "df2 = pd.DataFrame(y, columns=[\"target\"])\n",
    "oversample=pd.concat([df1,df2],axis=1)\n"
   ]
  },
  {
   "cell_type": "code",
   "execution_count": 275,
   "id": "d9dac267-cf8a-4c08-b4aa-8ae279ac8202",
   "metadata": {},
   "outputs": [
    {
     "data": {
      "image/png": "[encoded data removed]",
      "text/plain": [
       "<Figure size 640x480 with 2 Axes>"
      ]
     },
     "metadata": {},
     "output_type": "display_data"
    }
   ],
   "source": [
    "plt.scatter(oversample['f1'], oversample['f2'], c=oversample['target'], \n",
    "            cmap='viridis', alpha=0.7)\n",
    "plt.title(\"2D Classification Dataset\")\n",
    "plt.xlabel(\"f1\")\n",
    "plt.ylabel(\"f2\")\n",
    "plt.colorbar(label=\"Target\")\n",
    "plt.grid(True)\n",
    "plt.show()\n"
   ]
  },
  {
   "cell_type": "code",
   "execution_count": 279,
   "id": "faa68cdc-1951-4283-9eeb-b0af44daa4db",
   "metadata": {},
   "outputs": [
    {
     "data": {
      "text/plain": [
       "target\n",
       "1    946\n",
       "0    946\n",
       "Name: count, dtype: int64"
      ]
     },
     "execution_count": 279,
     "metadata": {},
     "output_type": "execute_result"
    }
   ],
   "source": [
    "oversample['target'].value_counts()"
   ]
  },
  {
   "cell_type": "code",
   "execution_count": null,
   "id": "0373e7c4-bf06-4790-94cc-8a8ad43df565",
   "metadata": {},
   "outputs": [],
   "source": []
  }
 ],
 "metadata": {
  "kernelspec": {
   "display_name": "Python 3 (ipykernel)",
   "language": "python",
   "name": "python3"
  },
  "language_info": {
   "codemirror_mode": {
    "name": "ipython",
    "version": 3
   },
   "file_extension": ".py",
   "mimetype": "text/x-python",
   "name": "python",
   "nbconvert_exporter": "python",
   "pygments_lexer": "ipython3",
   "version": "3.12.7"
  }
 },
 "nbformat": 4,
 "nbformat_minor": 5
}
